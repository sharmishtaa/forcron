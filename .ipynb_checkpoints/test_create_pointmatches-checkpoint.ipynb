{
 "cells": [
  {
   "cell_type": "code",
   "execution_count": 4,
   "metadata": {
    "collapsed": true
   },
   "outputs": [],
   "source": [
    "import renderapi\n",
    "import matplotlib.pyplot as plt\n",
    "import numpy as np\n",
    "from matplotlib.lines import Line2D\n",
    "import time\n",
    "\n",
    "from matplotlib.patches import FancyArrowPatch, Circle, ConnectionStyle\n",
    "\n",
    "%matplotlib notebook"
   ]
  },
  {
   "cell_type": "code",
   "execution_count": 2,
   "metadata": {
    "collapsed": true
   },
   "outputs": [],
   "source": [
    "host = 'ibs-forrestc-ux1.corp.alleninstitute.org'\n",
    "port = 80\n",
    "owner = 'S3_Run1'\n",
    "project = 'S3_Run1_Master'\n",
    "stack = 'Stitched_DAPI_1_Lowres'\n",
    "#matchcollection = 'S3_Run1_Jarvis_68_to_112_DAPI_1_lowres_round1111'\n",
    "#matchcollections = ['S3_Run1_Jarvis_68_to_112_DAPI_1_lowres_filter1','S3_Run1_Jarvis_68_to_112_DAPI_1_lowres_round1111']\n",
    "scripts = '/var/www/render/render-ws/src/main/scripts/'\n",
    "render = renderapi.render.connect(host,port,owner,project,client_scripts=scripts)"
   ]
  }
 ],
 "metadata": {
  "kernelspec": {
   "display_name": "Python 2",
   "language": "python",
   "name": "python2"
  },
  "language_info": {
   "codemirror_mode": {
    "name": "ipython",
    "version": 2
   },
   "file_extension": ".py",
   "mimetype": "text/x-python",
   "name": "python",
   "nbconvert_exporter": "python",
   "pygments_lexer": "ipython2",
   "version": "2.7.12"
  }
 },
 "nbformat": 4,
 "nbformat_minor": 0
}
