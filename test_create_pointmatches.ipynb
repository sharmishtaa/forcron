{
 "cells": [
  {
   "cell_type": "code",
   "execution_count": 4,
   "metadata": {
    "collapsed": true
   },
   "outputs": [],
   "source": [
    "import renderapi\n",
    "import matplotlib.pyplot as plt\n",
    "import numpy as np\n",
    "from matplotlib.lines import Line2D\n",
    "import time\n",
    "\n",
    "from matplotlib.patches import FancyArrowPatch, Circle, ConnectionStyle\n",
    "\n",
    "%matplotlib notebook"
   ]
  },
  {
   "cell_type": "code",
   "execution_count": 5,
   "metadata": {
    "collapsed": false
   },
   "outputs": [
    {
     "ename": "AttributeError",
     "evalue": "'module' object has no attribute 'render'",
     "output_type": "error",
     "traceback": [
      "\u001b[1;31m---------------------------------------------------------------------------\u001b[0m",
      "\u001b[1;31mAttributeError\u001b[0m                            Traceback (most recent call last)",
      "\u001b[1;32m<ipython-input-5-1d2cfb5f603a>\u001b[0m in \u001b[0;36m<module>\u001b[1;34m()\u001b[0m\n\u001b[0;32m      7\u001b[0m \u001b[1;31m#matchcollections = ['S3_Run1_Jarvis_68_to_112_DAPI_1_lowres_filter1','S3_Run1_Jarvis_68_to_112_DAPI_1_lowres_round1111']\u001b[0m\u001b[1;33m\u001b[0m\u001b[1;33m\u001b[0m\u001b[0m\n\u001b[0;32m      8\u001b[0m \u001b[0mscripts\u001b[0m \u001b[1;33m=\u001b[0m \u001b[1;34m'/var/www/render/render-ws/src/main/scripts/'\u001b[0m\u001b[1;33m\u001b[0m\u001b[0m\n\u001b[1;32m----> 9\u001b[1;33m \u001b[0mrender\u001b[0m \u001b[1;33m=\u001b[0m \u001b[0mrenderapi\u001b[0m\u001b[1;33m.\u001b[0m\u001b[0mrender\u001b[0m\u001b[1;33m.\u001b[0m\u001b[0mconnect\u001b[0m\u001b[1;33m(\u001b[0m\u001b[0mhost\u001b[0m\u001b[1;33m,\u001b[0m\u001b[0mport\u001b[0m\u001b[1;33m,\u001b[0m\u001b[0mowner\u001b[0m\u001b[1;33m,\u001b[0m\u001b[0mproject\u001b[0m\u001b[1;33m,\u001b[0m\u001b[0mclient_scripts\u001b[0m\u001b[1;33m=\u001b[0m\u001b[0mscripts\u001b[0m\u001b[1;33m)\u001b[0m\u001b[1;33m\u001b[0m\u001b[0m\n\u001b[0m",
      "\u001b[1;31mAttributeError\u001b[0m: 'module' object has no attribute 'render'"
     ]
    }
   ],
   "source": [
    "host = 'ibs-forrestc-ux1.corp.alleninstitute.org'\n",
    "port = 80\n",
    "owner = 'S3_Run1'\n",
    "project = 'S3_Run1_Master'\n",
    "stack = 'Stitched_DAPI_1_Lowres'\n",
    "#matchcollection = 'S3_Run1_Jarvis_68_to_112_DAPI_1_lowres_round1111'\n",
    "#matchcollections = ['S3_Run1_Jarvis_68_to_112_DAPI_1_lowres_filter1','S3_Run1_Jarvis_68_to_112_DAPI_1_lowres_round1111']\n",
    "scripts = '/var/www/render/render-ws/src/main/scripts/'\n",
    "render = renderapi.render.connect(host,port,owner,project,client_scripts=scripts)"
   ]
  },
  {
   "cell_type": "code",
   "execution_count": null,
   "metadata": {
    "collapsed": true
   },
   "outputs": [],
   "source": []
  }
 ],
 "metadata": {
  "kernelspec": {
   "display_name": "Python 2",
   "language": "python",
   "name": "python2"
  },
  "language_info": {
   "codemirror_mode": {
    "name": "ipython",
    "version": 2
   },
   "file_extension": ".py",
   "mimetype": "text/x-python",
   "name": "python",
   "nbconvert_exporter": "python",
   "pygments_lexer": "ipython2",
   "version": "2.7.12"
  }
 },
 "nbformat": 4,
 "nbformat_minor": 0
}
